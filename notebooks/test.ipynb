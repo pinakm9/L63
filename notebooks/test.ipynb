{
 "cells": [
  {
   "cell_type": "code",
   "execution_count": 1,
   "id": "disabled-machinery",
   "metadata": {},
   "outputs": [
    {
     "name": "stdout",
     "output_type": "stream",
     "text": [
      "C:\\Users\\pinak\\Documents\\GitHub\\L63\n"
     ]
    }
   ],
   "source": [
    "# add modules folder to Python's search path\n",
    "import sys\n",
    "from pathlib import Path\n",
    "from os.path import dirname, realpath, abspath\n",
    "script_dir = Path(abspath(''))#Path(dirname(realpath(__file__)))\n",
    "module_dir = str(script_dir.parent)\n",
    "sys.path.insert(0, module_dir + '/modules')\n",
    "sys.path.insert(0, module_dir + '/equations')\n",
    "print(module_dir)\n",
    "\n",
    "import jwidget as jw"
   ]
  },
  {
   "cell_type": "code",
   "execution_count": 2,
   "id": "balanced-sampling",
   "metadata": {},
   "outputs": [
    {
     "data": {
      "application/vnd.jupyter.widget-view+json": {
       "model_id": "a4d9bda6244d4d9ebeba9c9589a2e347",
       "version_major": 2,
       "version_minor": 0
      },
      "text/plain": [
       "interactive(children=(IntSlider(value=0, description='step', max=499), Output()), _dom_classes=('widget-intera…"
      ]
     },
     "metadata": {},
     "output_type": "display_data"
    }
   ],
   "source": [
    "asml_file = '../experiments/results/1_pc_400/config_3_seed_3#0/assimilation.h5'\n",
    "hidden_file_path = '../models/trajectory_500.csv'\n",
    "attractor_path = '../models/attractor_10000.csv'\n",
    "fig_size = (10, 5) \n",
    "max_attractor_pts = 2000\n",
    "aw = jw.AsmlWidget(asml_file, [0, 1], hidden_file_path, attractor_path, fig_size=fig_size, max_attractor_pts=max_attractor_pts)"
   ]
  },
  {
   "cell_type": "code",
   "execution_count": 3,
   "id": "controlling-sender",
   "metadata": {},
   "outputs": [
    {
     "data": {
      "application/vnd.jupyter.widget-view+json": {
       "model_id": "2e3f03d4086f41d8ad72e42e51a9adb4",
       "version_major": 2,
       "version_minor": 0
      },
      "text/plain": [
       "Button(description='compute and plot', style=ButtonStyle())"
      ]
     },
     "metadata": {},
     "output_type": "display_data"
    },
    {
     "data": {
      "application/vnd.jupyter.widget-view+json": {
       "model_id": "941306d5a3f548b5b0ced6b28880fa97",
       "version_major": 2,
       "version_minor": 0
      },
      "text/plain": [
       "IntSlider(value=0, description='step', max=499)"
      ]
     },
     "metadata": {},
     "output_type": "display_data"
    },
    {
     "data": {
      "application/vnd.jupyter.widget-view+json": {
       "model_id": "a79a1f11f1d6427d8004848741b52370",
       "version_major": 2,
       "version_minor": 0
      },
      "text/plain": [
       "FigureWidget({\n",
       "    'data': [],\n",
       "    'layout': {'annotations': [{'font': {'size': 16},\n",
       "                         …"
      ]
     },
     "metadata": {},
     "output_type": "display_data"
    }
   ],
   "source": [
    "sw = jw.PCShapeWidget(asml_file, [0, 1])"
   ]
  },
  {
   "cell_type": "code",
   "execution_count": null,
   "id": "photographic-garden",
   "metadata": {},
   "outputs": [],
   "source": []
  }
 ],
 "metadata": {
  "kernelspec": {
   "display_name": "Python 3",
   "language": "python",
   "name": "python3"
  },
  "language_info": {
   "codemirror_mode": {
    "name": "ipython",
    "version": 3
   },
   "file_extension": ".py",
   "mimetype": "text/x-python",
   "name": "python",
   "nbconvert_exporter": "python",
   "pygments_lexer": "ipython3",
   "version": "3.8.3"
  }
 },
 "nbformat": 4,
 "nbformat_minor": 5
}
